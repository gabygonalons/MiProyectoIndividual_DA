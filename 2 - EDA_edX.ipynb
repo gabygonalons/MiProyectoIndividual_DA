{
 "cells": [
  {
   "attachments": {},
   "cell_type": "markdown",
   "metadata": {},
   "source": [
    "# EDA - Análisis Exploratorio de Datos - edX"
   ]
  },
  {
   "attachments": {},
   "cell_type": "markdown",
   "metadata": {},
   "source": [
    "## En este Notebook se realiza un análisis pormenorizado de la información  correspondiente a los cursos MOOC de la plataforma edX."
   ]
  },
  {
   "attachments": {},
   "cell_type": "markdown",
   "metadata": {},
   "source": [
    "### Se importan las Librerías a utilizar"
   ]
  },
  {
   "cell_type": "code",
   "execution_count": 1,
   "metadata": {},
   "outputs": [],
   "source": [
    "import pandas as pd\n",
    "import matplotlib.pyplot as plt\n",
    "import seaborn as sns\n",
    "%matplotlib inline"
   ]
  },
  {
   "attachments": {},
   "cell_type": "markdown",
   "metadata": {},
   "source": [
    "### Se inicia el análisis de la plataforma edX"
   ]
  },
  {
   "cell_type": "code",
   "execution_count": 2,
   "metadata": {},
   "outputs": [
    {
     "data": {
      "text/html": [
       "<div>\n",
       "<style scoped>\n",
       "    .dataframe tbody tr th:only-of-type {\n",
       "        vertical-align: middle;\n",
       "    }\n",
       "\n",
       "    .dataframe tbody tr th {\n",
       "        vertical-align: top;\n",
       "    }\n",
       "\n",
       "    .dataframe thead th {\n",
       "        text-align: right;\n",
       "    }\n",
       "</style>\n",
       "<table border=\"1\" class=\"dataframe\">\n",
       "  <thead>\n",
       "    <tr style=\"text-align: right;\">\n",
       "      <th></th>\n",
       "      <th>title</th>\n",
       "      <th>summary</th>\n",
       "      <th>n_enrolled</th>\n",
       "      <th>course_type</th>\n",
       "      <th>institution</th>\n",
       "      <th>instructors</th>\n",
       "      <th>Level</th>\n",
       "      <th>subject</th>\n",
       "      <th>language</th>\n",
       "      <th>subtitles</th>\n",
       "      <th>course_effort</th>\n",
       "      <th>course_length</th>\n",
       "      <th>price</th>\n",
       "      <th>course_description</th>\n",
       "      <th>course_syllabus</th>\n",
       "      <th>course_url</th>\n",
       "    </tr>\n",
       "  </thead>\n",
       "  <tbody>\n",
       "    <tr>\n",
       "      <th>0</th>\n",
       "      <td>How to Learn Online</td>\n",
       "      <td>Learn essential strategies for successful onli...</td>\n",
       "      <td>124,980</td>\n",
       "      <td>Self-paced on your time</td>\n",
       "      <td>edX</td>\n",
       "      <td>Nina Huntemann-Robyn Belair-Ben Piscopo</td>\n",
       "      <td>Introductory</td>\n",
       "      <td>Education &amp; Teacher Training</td>\n",
       "      <td>English</td>\n",
       "      <td>English</td>\n",
       "      <td>2–3 hours per week</td>\n",
       "      <td>2 Weeks</td>\n",
       "      <td>FREE-Add a Verified Certificate for $49 USD</td>\n",
       "      <td>Designed for those who are new to elearning, t...</td>\n",
       "      <td>Welcome - We start with opportunities to meet ...</td>\n",
       "      <td>https://www.edx.org/course/how-to-learn-online</td>\n",
       "    </tr>\n",
       "    <tr>\n",
       "      <th>1</th>\n",
       "      <td>Programming for Everybody (Getting Started wit...</td>\n",
       "      <td>This course is a \"no prerequisite\" introductio...</td>\n",
       "      <td>293,864</td>\n",
       "      <td>Self-paced on your time</td>\n",
       "      <td>The University of Michigan</td>\n",
       "      <td>Charles Severance</td>\n",
       "      <td>Introductory</td>\n",
       "      <td>Computer Science</td>\n",
       "      <td>English</td>\n",
       "      <td>English</td>\n",
       "      <td>2–4 hours per week</td>\n",
       "      <td>7 Weeks</td>\n",
       "      <td>FREE-Add a Verified Certificate for $49 USD</td>\n",
       "      <td>This course aims to teach everyone the basics ...</td>\n",
       "      <td>NaN</td>\n",
       "      <td>https://www.edx.org/course/programming-for-eve...</td>\n",
       "    </tr>\n",
       "    <tr>\n",
       "      <th>2</th>\n",
       "      <td>CS50's Introduction to Computer Science</td>\n",
       "      <td>An introduction to the intellectual enterprise...</td>\n",
       "      <td>2,442,271</td>\n",
       "      <td>Self-paced on your time</td>\n",
       "      <td>Harvard University</td>\n",
       "      <td>David J. Malan-Doug Lloyd-Brian Yu</td>\n",
       "      <td>Introductory</td>\n",
       "      <td>Computer Science</td>\n",
       "      <td>English</td>\n",
       "      <td>English</td>\n",
       "      <td>6–18 hours per week</td>\n",
       "      <td>12 Weeks</td>\n",
       "      <td>FREE-Add a Verified Certificate for $90 USD</td>\n",
       "      <td>This is CS50x , Harvard University's introduct...</td>\n",
       "      <td>NaN</td>\n",
       "      <td>https://www.edx.org/course/cs50s-introduction-...</td>\n",
       "    </tr>\n",
       "  </tbody>\n",
       "</table>\n",
       "</div>"
      ],
      "text/plain": [
       "                                               title   \n",
       "0                                How to Learn Online  \\\n",
       "1  Programming for Everybody (Getting Started wit...   \n",
       "2            CS50's Introduction to Computer Science   \n",
       "\n",
       "                                             summary n_enrolled   \n",
       "0  Learn essential strategies for successful onli...    124,980  \\\n",
       "1  This course is a \"no prerequisite\" introductio...    293,864   \n",
       "2  An introduction to the intellectual enterprise...  2,442,271   \n",
       "\n",
       "               course_type                 institution   \n",
       "0  Self-paced on your time                         edX  \\\n",
       "1  Self-paced on your time  The University of Michigan   \n",
       "2  Self-paced on your time          Harvard University   \n",
       "\n",
       "                               instructors         Level   \n",
       "0  Nina Huntemann-Robyn Belair-Ben Piscopo  Introductory  \\\n",
       "1                        Charles Severance  Introductory   \n",
       "2       David J. Malan-Doug Lloyd-Brian Yu  Introductory   \n",
       "\n",
       "                        subject language subtitles        course_effort   \n",
       "0  Education & Teacher Training  English   English   2–3 hours per week  \\\n",
       "1              Computer Science  English   English   2–4 hours per week   \n",
       "2              Computer Science  English   English  6–18 hours per week   \n",
       "\n",
       "  course_length                                        price   \n",
       "0       2 Weeks  FREE-Add a Verified Certificate for $49 USD  \\\n",
       "1       7 Weeks  FREE-Add a Verified Certificate for $49 USD   \n",
       "2      12 Weeks  FREE-Add a Verified Certificate for $90 USD   \n",
       "\n",
       "                                  course_description   \n",
       "0  Designed for those who are new to elearning, t...  \\\n",
       "1  This course aims to teach everyone the basics ...   \n",
       "2  This is CS50x , Harvard University's introduct...   \n",
       "\n",
       "                                     course_syllabus   \n",
       "0  Welcome - We start with opportunities to meet ...  \\\n",
       "1                                                NaN   \n",
       "2                                                NaN   \n",
       "\n",
       "                                          course_url  \n",
       "0     https://www.edx.org/course/how-to-learn-online  \n",
       "1  https://www.edx.org/course/programming-for-eve...  \n",
       "2  https://www.edx.org/course/cs50s-introduction-...  "
      ]
     },
     "execution_count": 2,
     "metadata": {},
     "output_type": "execute_result"
    }
   ],
   "source": [
    "edx = pd.read_csv('../Moocs/DataSets_provistos/edx_courses.csv')\n",
    "edx.head(3)"
   ]
  },
  {
   "cell_type": "code",
   "execution_count": 3,
   "metadata": {},
   "outputs": [
    {
     "name": "stdout",
     "output_type": "stream",
     "text": [
      "<class 'pandas.core.frame.DataFrame'>\n",
      "RangeIndex: 975 entries, 0 to 974\n",
      "Data columns (total 16 columns):\n",
      " #   Column              Non-Null Count  Dtype \n",
      "---  ------              --------------  ----- \n",
      " 0   title               975 non-null    object\n",
      " 1   summary             922 non-null    object\n",
      " 2   n_enrolled          855 non-null    object\n",
      " 3   course_type         975 non-null    object\n",
      " 4   institution         975 non-null    object\n",
      " 5   instructors         972 non-null    object\n",
      " 6   Level               975 non-null    object\n",
      " 7   subject             975 non-null    object\n",
      " 8   language            975 non-null    object\n",
      " 9   subtitles           972 non-null    object\n",
      " 10  course_effort       975 non-null    object\n",
      " 11  course_length       975 non-null    object\n",
      " 12  price               975 non-null    object\n",
      " 13  course_description  935 non-null    object\n",
      " 14  course_syllabus     414 non-null    object\n",
      " 15  course_url          975 non-null    object\n",
      "dtypes: object(16)\n",
      "memory usage: 122.0+ KB\n"
     ]
    }
   ],
   "source": [
    "edx.info()"
   ]
  },
  {
   "cell_type": "code",
   "execution_count": 6,
   "metadata": {},
   "outputs": [
    {
     "data": {
      "text/plain": [
       "n_enrolled\n",
       "97,291    2\n",
       "5,473     2\n",
       "10,129    2\n",
       "6,169     2\n",
       "11,426    2\n",
       "         ..\n",
       "9,796     1\n",
       "66,769    1\n",
       "22,366    1\n",
       "55,376    1\n",
       "8,775     1\n",
       "Name: count, Length: 849, dtype: int64"
      ]
     },
     "execution_count": 6,
     "metadata": {},
     "output_type": "execute_result"
    }
   ],
   "source": [
    "edx['n_enrolled'].value_counts()"
   ]
  }
 ],
 "metadata": {
  "kernelspec": {
   "display_name": "Python 3",
   "language": "python",
   "name": "python3"
  },
  "language_info": {
   "codemirror_mode": {
    "name": "ipython",
    "version": 3
   },
   "file_extension": ".py",
   "mimetype": "text/x-python",
   "name": "python",
   "nbconvert_exporter": "python",
   "pygments_lexer": "ipython3",
   "version": "3.10.9"
  },
  "orig_nbformat": 4
 },
 "nbformat": 4,
 "nbformat_minor": 2
}
